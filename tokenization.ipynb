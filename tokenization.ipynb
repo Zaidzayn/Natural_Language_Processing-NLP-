{
 "cells": [
  {
   "cell_type": "code",
   "execution_count": 4,
   "metadata": {},
   "outputs": [],
   "source": [
    "corpus=\"\"\"Hello Welcome, to zaids github account.\n",
    "Please check my profile! to know more about me.\n",
    "You can find my projects and contributions there.\n",
    "\"\"\""
   ]
  },
  {
   "cell_type": "code",
   "execution_count": 5,
   "metadata": {},
   "outputs": [
    {
     "name": "stdout",
     "output_type": "stream",
     "text": [
      "Hello Welcome, to zaids github account.\n",
      "Please check my profile! to know more about me.\n",
      "You can find my projects and contributions there.\n",
      "\n"
     ]
    }
   ],
   "source": [
    "print(corpus)"
   ]
  },
  {
   "cell_type": "code",
   "execution_count": 6,
   "metadata": {},
   "outputs": [],
   "source": [
    "##Tokenization\n",
    "## Sentence ----> Paragraph"
   ]
  },
  {
   "cell_type": "code",
   "execution_count": 7,
   "metadata": {},
   "outputs": [],
   "source": [
    "from nltk.tokenize import sent_tokenize"
   ]
  },
  {
   "cell_type": "code",
   "execution_count": 8,
   "metadata": {},
   "outputs": [],
   "source": [
    "sent_tokenized_corpus = sent_tokenize(corpus)"
   ]
  },
  {
   "cell_type": "code",
   "execution_count": 9,
   "metadata": {},
   "outputs": [
    {
     "data": {
      "text/plain": [
       "['Hello Welcome, to zaids github account.',\n",
       " 'Please check my profile!',\n",
       " 'to know more about me.',\n",
       " 'You can find my projects and contributions there.']"
      ]
     },
     "execution_count": 9,
     "metadata": {},
     "output_type": "execute_result"
    }
   ],
   "source": [
    "sent_tokenized_corpus"
   ]
  },
  {
   "cell_type": "code",
   "execution_count": 10,
   "metadata": {},
   "outputs": [
    {
     "name": "stdout",
     "output_type": "stream",
     "text": [
      "Hello Welcome, to zaids github account.\n",
      "Please check my profile!\n",
      "to know more about me.\n",
      "You can find my projects and contributions there.\n"
     ]
    }
   ],
   "source": [
    "for i in sent_tokenized_corpus:\n",
    "    print(i)"
   ]
  },
  {
   "cell_type": "code",
   "execution_count": 11,
   "metadata": {},
   "outputs": [],
   "source": [
    "## Tokenization\n",
    "from nltk.tokenize import word_tokenize\n",
    "word_tokenized_corpus = word_tokenize(corpus)"
   ]
  },
  {
   "cell_type": "code",
   "execution_count": 12,
   "metadata": {},
   "outputs": [
    {
     "data": {
      "text/plain": [
       "['Hello',\n",
       " 'Welcome',\n",
       " ',',\n",
       " 'to',\n",
       " 'zaids',\n",
       " 'github',\n",
       " 'account',\n",
       " '.',\n",
       " 'Please',\n",
       " 'check',\n",
       " 'my',\n",
       " 'profile',\n",
       " '!',\n",
       " 'to',\n",
       " 'know',\n",
       " 'more',\n",
       " 'about',\n",
       " 'me',\n",
       " '.',\n",
       " 'You',\n",
       " 'can',\n",
       " 'find',\n",
       " 'my',\n",
       " 'projects',\n",
       " 'and',\n",
       " 'contributions',\n",
       " 'there',\n",
       " '.']"
      ]
     },
     "execution_count": 12,
     "metadata": {},
     "output_type": "execute_result"
    }
   ],
   "source": [
    "word_tokenized_corpus"
   ]
  },
  {
   "cell_type": "code",
   "execution_count": 14,
   "metadata": {},
   "outputs": [],
   "source": [
    "from nltk.tokenize import wordpunct_tokenize"
   ]
  },
  {
   "cell_type": "code",
   "execution_count": 15,
   "metadata": {},
   "outputs": [],
   "source": [
    "wordpunct_tokenize_corpus = wordpunct_tokenize(corpus)"
   ]
  },
  {
   "cell_type": "code",
   "execution_count": 16,
   "metadata": {},
   "outputs": [
    {
     "data": {
      "text/plain": [
       "['Hello',\n",
       " 'Welcome',\n",
       " ',',\n",
       " 'to',\n",
       " 'zaids',\n",
       " 'github',\n",
       " 'account',\n",
       " '.',\n",
       " 'Please',\n",
       " 'check',\n",
       " 'my',\n",
       " 'profile',\n",
       " '!',\n",
       " 'to',\n",
       " 'know',\n",
       " 'more',\n",
       " 'about',\n",
       " 'me',\n",
       " '.',\n",
       " 'You',\n",
       " 'can',\n",
       " 'find',\n",
       " 'my',\n",
       " 'projects',\n",
       " 'and',\n",
       " 'contributions',\n",
       " 'there',\n",
       " '.']"
      ]
     },
     "execution_count": 16,
     "metadata": {},
     "output_type": "execute_result"
    }
   ],
   "source": [
    "wordpunct_tokenize_corpus"
   ]
  },
  {
   "cell_type": "code",
   "execution_count": 17,
   "metadata": {},
   "outputs": [],
   "source": [
    "from nltk.tokenize import TreebankWordTokenizer"
   ]
  },
  {
   "cell_type": "code",
   "execution_count": 18,
   "metadata": {},
   "outputs": [],
   "source": [
    "TreebankWordTokenizer = TreebankWordTokenizer()\n",
    "treebank_word_tokenized_corpus = TreebankWordTokenizer.tokenize(corpus) "
   ]
  },
  {
   "cell_type": "code",
   "execution_count": 19,
   "metadata": {},
   "outputs": [
    {
     "data": {
      "text/plain": [
       "['Hello',\n",
       " 'Welcome',\n",
       " ',',\n",
       " 'to',\n",
       " 'zaids',\n",
       " 'github',\n",
       " 'account.',\n",
       " 'Please',\n",
       " 'check',\n",
       " 'my',\n",
       " 'profile',\n",
       " '!',\n",
       " 'to',\n",
       " 'know',\n",
       " 'more',\n",
       " 'about',\n",
       " 'me.',\n",
       " 'You',\n",
       " 'can',\n",
       " 'find',\n",
       " 'my',\n",
       " 'projects',\n",
       " 'and',\n",
       " 'contributions',\n",
       " 'there',\n",
       " '.']"
      ]
     },
     "execution_count": 19,
     "metadata": {},
     "output_type": "execute_result"
    }
   ],
   "source": [
    "treebank_word_tokenized_corpus"
   ]
  }
 ],
 "metadata": {
  "kernelspec": {
   "display_name": "base",
   "language": "python",
   "name": "python3"
  },
  "language_info": {
   "codemirror_mode": {
    "name": "ipython",
    "version": 3
   },
   "file_extension": ".py",
   "mimetype": "text/x-python",
   "name": "python",
   "nbconvert_exporter": "python",
   "pygments_lexer": "ipython3",
   "version": "3.12.7"
  }
 },
 "nbformat": 4,
 "nbformat_minor": 2
}
