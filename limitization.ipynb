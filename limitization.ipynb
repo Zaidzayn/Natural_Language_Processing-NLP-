{
 "cells": [
  {
   "cell_type": "markdown",
   "metadata": {},
   "source": [
    "WordNet Lemmatizer is a text processing tool that reduces words to their base or dictionary form (called a \"lemma\"). It's part of the Natural Language Toolkit (NLTK) in Python and uses the WordNet lexical database to perform intelligent lemmatization.\n",
    "Key Features of WordNet Lemmatizer:\n",
    "Advantages:\n",
    "\n",
    "Linguistically accurate: Uses actual dictionary forms rather than crude chopping\n",
    "Context-aware: Works better when you provide part-of-speech information\n",
    "Preserves meaning: Returns valid dictionary words\n",
    "Multiple languages: Supports various languages through WordNet\n",
    "\n",
    "How it differs from stemming:\n",
    "\n",
    "Lemmatization: \"better\" → \"good\", \"ran\" → \"run\" (actual root words)\n",
    "Stemming: \"better\" → \"better\", \"running\" → \"run\" (may not be real words)\n",
    "\n",
    "Common use cases:\n",
    "\n",
    "Text preprocessing for NLP tasks\n",
    "Search systems (matching different word forms)\n",
    "Text analysis and mining\n",
    "Information retrieval systems\n",
    "\n",
    "Important notes:\n",
    "\n",
    "Requires downloading WordNet data first\n",
    "Performance is slower than stemming but more accurate\n",
    "Works best when combined with POS tagging\n",
    "May not handle very rare or domain-specific words well\n",
    "\n",
    "The lemmatizer is particularly useful when you need the output to be real, meaningful words rather than just shortened stems, making it ideal for applications where human readability or linguistic accuracy is important.RetryClaude can make mistakes. Please double-check responses."
   ]
  },
  {
   "cell_type": "code",
   "execution_count": 1,
   "metadata": {},
   "outputs": [],
   "source": [
    "from nltk.stem import WordNetLemmatizer"
   ]
  },
  {
   "cell_type": "code",
   "execution_count": 2,
   "metadata": {},
   "outputs": [],
   "source": [
    "word_lemmatizer = WordNetLemmatizer()"
   ]
  },
  {
   "cell_type": "code",
   "execution_count": 5,
   "metadata": {},
   "outputs": [
    {
     "data": {
      "text/plain": [
       "'run'"
      ]
     },
     "execution_count": 5,
     "metadata": {},
     "output_type": "execute_result"
    }
   ],
   "source": [
    "word_lemmatizer.lemmatize(\"running\", pos=\"v\") "
   ]
  },
  {
   "cell_type": "code",
   "execution_count": 6,
   "metadata": {},
   "outputs": [
    {
     "name": "stdout",
     "output_type": "stream",
     "text": [
      "['run', 'run', 'run', 'better', 'best', 'good']\n"
     ]
    }
   ],
   "source": [
    "words = [\"running\", \"ran\", \"runs\", \"better\", \"best\", \"good\"]\n",
    "lemmatized_words = [word_lemmatizer.lemmatize(word, pos=\"v\") for word in words]\n",
    "print(lemmatized_words)"
   ]
  },
  {
   "cell_type": "code",
   "execution_count": null,
   "metadata": {},
   "outputs": [],
   "source": []
  },
  {
   "cell_type": "code",
   "execution_count": null,
   "metadata": {},
   "outputs": [],
   "source": []
  }
 ],
 "metadata": {
  "kernelspec": {
   "display_name": "base",
   "language": "python",
   "name": "python3"
  },
  "language_info": {
   "codemirror_mode": {
    "name": "ipython",
    "version": 3
   },
   "file_extension": ".py",
   "mimetype": "text/x-python",
   "name": "python",
   "nbconvert_exporter": "python",
   "pygments_lexer": "ipython3",
   "version": "3.12.7"
  }
 },
 "nbformat": 4,
 "nbformat_minor": 2
}
