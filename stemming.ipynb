{
 "cells": [
  {
   "cell_type": "code",
   "execution_count": 5,
   "metadata": {},
   "outputs": [],
   "source": [
    "words=[\"eat\",\"eats\",\"eater\",\"eating\",\"eats\",\"eaten\",\"program\",\"programs\",\"programmer\",\"programming\",\"programmed\",\"programs\",\"history\",\"histories\",\"historical\",\"historically\",\"history\",\"histories\",\"history's\",\"history's\"]"
   ]
  },
  {
   "cell_type": "code",
   "execution_count": 6,
   "metadata": {},
   "outputs": [],
   "source": [
    "from nltk.stem import PorterStemmer\n",
    "stemmer = PorterStemmer()"
   ]
  },
  {
   "cell_type": "code",
   "execution_count": 7,
   "metadata": {},
   "outputs": [
    {
     "name": "stdout",
     "output_type": "stream",
     "text": [
      "eat -> eat\n",
      "eats -> eat\n",
      "eater -> eater\n",
      "eating -> eat\n",
      "eats -> eat\n",
      "eaten -> eaten\n",
      "program -> program\n",
      "programs -> program\n",
      "programmer -> programm\n",
      "programming -> program\n",
      "programmed -> program\n",
      "programs -> program\n",
      "history -> histori\n",
      "histories -> histori\n",
      "historical -> histor\n",
      "historically -> histor\n",
      "history -> histori\n",
      "histories -> histori\n",
      "history's -> history'\n",
      "history's -> history'\n"
     ]
    }
   ],
   "source": [
    "for word in words:\n",
    "    print(f\"{word} -> {stemmer.stem(word)}\")"
   ]
  },
  {
   "cell_type": "markdown",
   "metadata": {},
   "source": [
    "Regex Stemmer Class"
   ]
  },
  {
   "cell_type": "code",
   "execution_count": 8,
   "metadata": {},
   "outputs": [],
   "source": [
    "from nltk.stem import RegexpStemmer"
   ]
  },
  {
   "cell_type": "code",
   "execution_count": 15,
   "metadata": {},
   "outputs": [],
   "source": [
    "reg_stemmer=RegexpStemmer('ing$|s$|e$|able$|ed',min=4)"
   ]
  },
  {
   "cell_type": "code",
   "execution_count": 16,
   "metadata": {},
   "outputs": [
    {
     "data": {
      "text/plain": [
       "'programm'"
      ]
     },
     "execution_count": 16,
     "metadata": {},
     "output_type": "execute_result"
    }
   ],
   "source": [
    "reg_stemmer.stem(\"programming\")  # 'program'"
   ]
  },
  {
   "cell_type": "code",
   "execution_count": 17,
   "metadata": {},
   "outputs": [
    {
     "data": {
      "text/plain": [
       "'programm'"
      ]
     },
     "execution_count": 17,
     "metadata": {},
     "output_type": "execute_result"
    }
   ],
   "source": [
    "reg_stemmer.stem(\"programmed\")  # 'program'"
   ]
  },
  {
   "cell_type": "markdown",
   "metadata": {},
   "source": [
    "Snowball Stemmer"
   ]
  },
  {
   "cell_type": "code",
   "execution_count": 19,
   "metadata": {},
   "outputs": [],
   "source": [
    "from nltk.stem import SnowballStemmer\n",
    "snowball_stemmer = SnowballStemmer(\"english\")"
   ]
  },
  {
   "cell_type": "code",
   "execution_count": 20,
   "metadata": {},
   "outputs": [
    {
     "name": "stdout",
     "output_type": "stream",
     "text": [
      "eat -> eat\n",
      "eats -> eat\n",
      "eater -> eater\n",
      "eating -> eat\n",
      "eats -> eat\n",
      "eaten -> eaten\n",
      "program -> program\n",
      "programs -> program\n",
      "programmer -> programm\n",
      "programming -> program\n",
      "programmed -> program\n",
      "programs -> program\n",
      "history -> histori\n",
      "histories -> histori\n",
      "historical -> histor\n",
      "historically -> histor\n",
      "history -> histori\n",
      "histories -> histori\n",
      "history's -> histori\n",
      "history's -> histori\n"
     ]
    }
   ],
   "source": [
    "for word in words:\n",
    "    print(f\"{word} -> {snowball_stemmer.stem(word)}\")\n"
   ]
  },
  {
   "cell_type": "code",
   "execution_count": 21,
   "metadata": {},
   "outputs": [
    {
     "name": "stdout",
     "output_type": "stream",
     "text": [
      "mange -> mang\n",
      "manges -> mang\n",
      "mangeons -> mangeon\n",
      "mangent -> mangent\n",
      "mangeait -> mang\n"
     ]
    }
   ],
   "source": [
    "snowball_stemmer = SnowballStemmer(\"french\")\n",
    "for word in [\"mange\", \"manges\", \"mangeons\", \"mangent\", \"mangeait\"]:\n",
    "    print(f\"{word} -> {snowball_stemmer.stem(word)}\")"
   ]
  },
  {
   "cell_type": "code",
   "execution_count": null,
   "metadata": {},
   "outputs": [],
   "source": []
  }
 ],
 "metadata": {
  "kernelspec": {
   "display_name": "base",
   "language": "python",
   "name": "python3"
  },
  "language_info": {
   "codemirror_mode": {
    "name": "ipython",
    "version": 3
   },
   "file_extension": ".py",
   "mimetype": "text/x-python",
   "name": "python",
   "nbconvert_exporter": "python",
   "pygments_lexer": "ipython3",
   "version": "3.12.7"
  }
 },
 "nbformat": 4,
 "nbformat_minor": 2
}
